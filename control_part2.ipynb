{
 "cells": [
  {
   "cell_type": "code",
   "execution_count": 1,
   "metadata": {},
   "outputs": [],
   "source": [
    "from moviefiter import moviedata\n",
    "import pandas as pd\n",
    "user_1=moviedata()\n",
    "def mainpart():\n",
    "   \n",
    "    #user_ing=input(\"genres:\")  #input by terminal\n",
    "    user_ing=\"comedy\" #input genres\n",
    "    # for multiple genres use \",\" to seperate each keywords.\n",
    "    #user_inc=input(\"casts: \") #by terminal\n",
    "    user_inc=\"leo\"       #input actors\n",
    "    #user_date=input(\"date: \")\n",
    "    user_date=\"2000\"           #input datetime\n",
    "    genresls=user_ing.lstrip().rstrip().split(\",\")\n",
    "    castls=user_inc.lstrip().rstrip().split(\",\")\n",
    "    datels=int(user_date.lstrip().rstrip()[0:4])\n",
    "    wanted_df=moviedata.search(user_1.movies_df,Only=False,genres=genresls,cast=castls)\n",
    "    secondpart=moviedata.search(user_1.movies_df,Only=False,genres=genresls)\n",
    "    final_one=pd.concat([wanted_df,secondpart],axis=0)\n",
    "    final_one.drop_duplicates(subset=['id'],keep='first',inplace=True)\n",
    "    moviedata.forsort(wanted_df,datels)\n",
    "    if wanted_df.shape[0]>100:\n",
    "        return wanted_df.head(100)\n",
    "    else:\n",
    "        return wanted_df\n",
    "    \n",
    "def df_tolist(df:pd.DataFrame):\n",
    "    final_output=[]\n",
    "    for row in range(df.shape[0]):\n",
    "        id_ofmovie=df[\"id\"].iloc[row] #HERE to put id eg.862 all in str\n",
    "        output=user_1.alles_inner_extract(df=user_1.movies_df,movie_ids=[id_ofmovie],usemydf=True,rEALLYONLY=True) #using id of the movie to extract data\n",
    "        final_output.append(output)\n",
    "    return final_output\n",
    "        \n",
    "    #OUTPUT FORMAT:\n",
    "    #!!! if shown nan means this movie does not has this section.Just skip   \n",
    "    #get every row by final_output[row]\n",
    "    #get each elements in each row by following: \n",
    "    #final_output[row][position]\n",
    "    #data type: str\n",
    "    #position: 0:movie_id for input upon  \n",
    "    #position: 1 overview, can be add to shown on the page  \n",
    "    #position: 2 tagline, a line of words can be also add to page\n",
    "    #position: 3 a list of main actors.\n",
    "    #position: 4 a list of genres of this movie\n",
    "    #position: 5 a list of maker of this movie\n",
    "    #position: 6 a list of the of country of this movie  format: \"XX_[Country]\"\n",
    "    #position: 7 the year it released\n"
   ]
  },
  {
   "cell_type": "code",
   "execution_count": 2,
   "metadata": {},
   "outputs": [],
   "source": [
    "show_df=mainpart()\n"
   ]
  },
  {
   "cell_type": "code",
   "execution_count": 3,
   "metadata": {},
   "outputs": [
    {
     "name": "stdout",
     "output_type": "stream",
     "text": [
      "[]\n"
     ]
    }
   ],
   "source": [
    "\n",
    "final_one=df_tolist(show_df)\n",
    "print (final_one)"
   ]
  },
  {
   "cell_type": "code",
   "execution_count": null,
   "metadata": {},
   "outputs": [],
   "source": []
  },
  {
   "cell_type": "code",
   "execution_count": null,
   "metadata": {},
   "outputs": [],
   "source": []
  }
 ],
 "metadata": {
  "kernelspec": {
   "display_name": "base",
   "language": "python",
   "name": "python3"
  },
  "language_info": {
   "codemirror_mode": {
    "name": "ipython",
    "version": 3
   },
   "file_extension": ".py",
   "mimetype": "text/x-python",
   "name": "python",
   "nbconvert_exporter": "python",
   "pygments_lexer": "ipython3",
   "version": "3.10.9"
  },
  "orig_nbformat": 4
 },
 "nbformat": 4,
 "nbformat_minor": 2
}
